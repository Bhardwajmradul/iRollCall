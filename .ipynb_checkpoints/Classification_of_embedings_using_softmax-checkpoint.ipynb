{
 "cells": [
  {
   "cell_type": "code",
   "execution_count": 1,
   "id": "35c20009",
   "metadata": {},
   "outputs": [],
   "source": [
    "import torch\n",
    "import numpy as np\n",
    "import os\n",
    "import matplotlib.pyplot as plt\n",
    "from torch.utils.data import DataLoader"
   ]
  },
  {
   "cell_type": "code",
   "execution_count": 2,
   "id": "8c12c4f6",
   "metadata": {},
   "outputs": [
    {
     "data": {
      "text/plain": [
       "'mps'"
      ]
     },
     "execution_count": 2,
     "metadata": {},
     "output_type": "execute_result"
    }
   ],
   "source": [
    "device=\"mps\" if torch.backends.mps.is_available() else \"cpu\"\n",
    "device"
   ]
  },
  {
   "cell_type": "code",
   "execution_count": 16,
   "id": "c82de885",
   "metadata": {},
   "outputs": [
    {
     "data": {
      "text/plain": [
       "(190146, 512)"
      ]
     },
     "execution_count": 16,
     "metadata": {},
     "output_type": "execute_result"
    }
   ],
   "source": [
    "n=\"200\"\n",
    "DATA_PATH=f\"data/Embedings/Embeding-{n}\"\n",
    "TRAIN_EMBEDS = os.path.join(DATA_PATH, f'trainEmbeds{n}.npz')\n",
    "TEST_EMBEDS = os.path.join(DATA_PATH, f'testEmbeds{n}.npz')\n",
    "trainEmbeds, trainLabels = np.load(TRAIN_EMBEDS, allow_pickle=True).values()\n",
    "testEmbeds, testLabels = np.load(TEST_EMBEDS, allow_pickle=True).values()\n",
    "trainEmbeds.shape"
   ]
  },
  {
   "cell_type": "code",
   "execution_count": 17,
   "id": "f2149c21",
   "metadata": {},
   "outputs": [
    {
     "name": "stdout",
     "output_type": "stream",
     "text": [
      "20\n"
     ]
    }
   ],
   "source": [
    "import pickle\n",
    "with open('data/class_list.pkl', 'rb') as file:\n",
    "    ClassList = pickle.load(file)\n",
    "print(len(ClassList))    \n",
    "def name_from_index(i, ClassList=ClassList):\n",
    "    reversed_dict = {v: k for k, v in ClassList.items()}\n",
    "    if isinstance(i, np.ndarray):  # Check if i is a NumPy array\n",
    "        names = [reversed_dict.get(idx.item(), None) for idx in i]\n",
    "        return names\n",
    "    else:\n",
    "        return reversed_dict.get(i, None)"
   ]
  },
  {
   "cell_type": "code",
   "execution_count": 18,
   "id": "6d8d2689",
   "metadata": {},
   "outputs": [],
   "source": [
    "import torch.nn as nn\n",
    "import torch.optim as optim\n",
    "X = torch.tensor(trainEmbeds, dtype=torch.float32).to(device)\n",
    "y = torch.tensor(trainLabels, dtype=torch.long).to(device)\n",
    "X_test=torch.tensor(testEmbeds,dtype=torch.float32).to(device)\n",
    "y_test=torch.tensor(testLabels,dtype=torch.long).to(device)"
   ]
  },
  {
   "cell_type": "markdown",
   "id": "71d33da5",
   "metadata": {},
   "source": [
    "# Defining SVM model"
   ]
  },
  {
   "cell_type": "code",
   "execution_count": 19,
   "id": "5cbaeb62",
   "metadata": {},
   "outputs": [],
   "source": [
    "class SoftmaxUsed(nn.Module):\n",
    "    def __init__(self):\n",
    "        super().__init__()\n",
    "        self.layers = nn.Sequential(nn.Linear(512, 256),\n",
    "                                 nn.ReLU(),\n",
    "                                 nn.Dropout(0.2),\n",
    "                                 nn.Linear(256, 128),\n",
    "                                 nn.ReLU(),\n",
    "                                 nn.Dropout(0.2),\n",
    "                                 nn.Linear(128, len(ClassList)),\n",
    "                                 nn.LogSoftmax(dim=1))\n",
    "    def forward(self, x):\n",
    "        return self.layers(x)\n",
    "\n",
    "class SVM(nn.Module):\n",
    "    def __init__(self):\n",
    "        super(SVM, self).__init__()\n",
    "        self.fc = nn.Linear(X.shape[1], len(ClassList))\n",
    "\n",
    "    def forward(self, x):\n",
    "        return self.fc(x)\n",
    "model = SoftmaxUsed().to(device)\n",
    "# model=SVM().to(device)\n",
    "# model.load_state_dict(torch.load(f=\"data/models/predictFacesModelAcc91.70_With40Embeds.pth\"))"
   ]
  },
  {
   "cell_type": "markdown",
   "id": "0a7a4a82",
   "metadata": {},
   "source": [
    "# Loss function and Optimizer function"
   ]
  },
  {
   "cell_type": "code",
   "execution_count": 20,
   "id": "753a58c9",
   "metadata": {},
   "outputs": [],
   "source": [
    "loss_func = nn.CrossEntropyLoss()\n",
    "# nn.NLLLoss()\n",
    "admoptimizer = optim.Adam(model.parameters(), lr=0.000051)"
   ]
  },
  {
   "cell_type": "markdown",
   "id": "828d2903",
   "metadata": {},
   "source": [
    "# Accuracy Function"
   ]
  },
  {
   "cell_type": "code",
   "execution_count": 21,
   "id": "a31ea967",
   "metadata": {},
   "outputs": [],
   "source": [
    "def acc(y_true, y_pred):\n",
    "    correct = torch.eq(y_true, y_pred).sum().item() # torch.eq() calculates where two tensors are equal\n",
    "    acc = (correct / len(y_pred)) * 100 \n",
    "    return acc"
   ]
  },
  {
   "cell_type": "markdown",
   "id": "370c53b2",
   "metadata": {},
   "source": [
    "# Training Loop"
   ]
  },
  {
   "cell_type": "code",
   "execution_count": 22,
   "id": "e91a725c",
   "metadata": {},
   "outputs": [],
   "source": [
    "def modelSave(model):\n",
    "    from pathlib import Path\n",
    "\n",
    "    # 1. Create models directory \n",
    "    MODEL_PATH = Path(f\"data/classLen- {len(ClassList)}/embeding-{n}\")\n",
    "    MODEL_PATH.mkdir(parents=True, exist_ok=True)\n",
    "\n",
    "    # 2. Create model save path \n",
    "    MODEL_NAME = f\"predictFacesModelAcc{testAcc:.2f}_With{n}Embeds.pth\"\n",
    "    MODEL_SAVE_PATH = MODEL_PATH / MODEL_NAME\n",
    "\n",
    "    # 3. Save the model state dict \n",
    "    print(f\"Saving model to: {MODEL_SAVE_PATH}\")\n",
    "    torch.save(obj=model.state_dict(), # only saving the state_dict() only saves the models learned parameters\n",
    "               f=MODEL_SAVE_PATH)"
   ]
  },
  {
   "cell_type": "code",
   "execution_count": null,
   "id": "6f3902ee",
   "metadata": {
    "scrolled": false
   },
   "outputs": [
    {
     "name": "stdout",
     "output_type": "stream",
     "text": [
      "Epoch: 0 | TrainingLoss= 2.620593309402466 | TestingLoss= 2.1943178176879883 | Accuracy= 59.3167701863354\n",
      "Epoch: 1000 | TrainingLoss= 2.4543612003326416 | TestingLoss= 1.947574257850647 | Accuracy= 61.18012422360248\n",
      "Epoch: 2000 | TrainingLoss= 2.310333490371704 | TestingLoss= 1.729942798614502 | Accuracy= 64.90683229813664\n",
      "Epoch: 3000 | TrainingLoss= 2.1855366230010986 | TestingLoss= 1.540405511856079 | Accuracy= 68.01242236024845\n",
      "Epoch: 4000 | TrainingLoss= 2.0774714946746826 | TestingLoss= 1.3775842189788818 | Accuracy= 69.87577639751554\n",
      "Epoch: 5000 | TrainingLoss= 1.9837902784347534 | TestingLoss= 1.2389706373214722 | Accuracy= 72.04968944099379\n",
      "Epoch: 6000 | TrainingLoss= 1.9023958444595337 | TestingLoss= 1.1218676567077637 | Accuracy= 72.98136645962732\n",
      "Epoch: 7000 | TrainingLoss= 1.8314937353134155 | TestingLoss= 1.0235815048217773 | Accuracy= 72.98136645962732\n",
      "Epoch: 8000 | TrainingLoss= 1.7695461511611938 | TestingLoss= 0.9415199756622314 | Accuracy= 73.6024844720497\n",
      "Epoch: 9000 | TrainingLoss= 1.7152447700500488 | TestingLoss= 0.8732019066810608 | Accuracy= 74.22360248447205\n"
     ]
    }
   ],
   "source": [
    "%%time\n",
    "num_epochs = 2400000\n",
    "trainingLoss= []\n",
    "testingLoss =1\n",
    "trainAcc = []\n",
    "testAcc =0\n",
    "for epoch in range(num_epochs):\n",
    "    outputs = model(X)\n",
    "    _, y_predict = torch.max(outputs, 1)\n",
    "    train_accuracy = acc(y, y_predict)\n",
    "    train_loss = loss_func(outputs, y)\n",
    "\n",
    "    admoptimizer.zero_grad()\n",
    "    train_loss.backward()\n",
    "    admoptimizer.step()\n",
    "    model.eval()\n",
    "    with torch.no_grad():\n",
    "        predictions = model(X_test)\n",
    "        _, pred_labels = torch.max(predictions, 1)\n",
    "        y_test = y_test.to(torch.long)  # Convert to Long data type\n",
    "        test_accuracy = acc(y_test, pred_labels)\n",
    "        test_loss = loss_func(predictions, y_test)\n",
    "    if epoch % 1000 == 0:\n",
    "        if testAcc<test_accuracy:\n",
    "            testAcc=test_accuracy\n",
    "            if testAcc>90:\n",
    "                modelSave(model)\n",
    "        if test_loss<testingLoss and testAcc>90:\n",
    "            testingLoss=test_loss-0.001\n",
    "            modelSave(model)\n",
    "            \n",
    "        print(f\"Epoch: {epoch} | TrainingLoss= {train_loss} | TestingLoss= {test_loss} | Accuracy= {test_accuracy}\")\n"
   ]
  },
  {
   "cell_type": "code",
   "execution_count": 14,
   "id": "cdded870",
   "metadata": {},
   "outputs": [
    {
     "ename": "IndentationError",
     "evalue": "unexpected indent (1376396373.py, line 4)",
     "output_type": "error",
     "traceback": [
      "\u001b[0;36m  Cell \u001b[0;32mIn[14], line 4\u001b[0;36m\u001b[0m\n\u001b[0;31m    MODEL_PATH = Path(f\"data/classLen- {len(ClassList)}/embeding-{n}\")\u001b[0m\n\u001b[0m    ^\u001b[0m\n\u001b[0;31mIndentationError\u001b[0m\u001b[0;31m:\u001b[0m unexpected indent\n"
     ]
    }
   ],
   "source": [
    "from pathlib import Path\n",
    "\n",
    "    # 1. Create models directory \n",
    "    MODEL_PATH = Path(f\"data/classLen- {len(ClassList)}/embeding-{n}\")\n",
    "    MODEL_PATH.mkdir(parents=True, exist_ok=True)\n",
    "\n",
    "    # 2. Create model save path \n",
    "    MODEL_NAME = f\"predictFacesModelAcc{testAcc:.2f}_With{n}Embeds.pth\"\n",
    "    MODEL_SAVE_PATH = MODEL_PATH / MODEL_NAME\n",
    "\n",
    "    # 3. Save the model state dict \n",
    "    print(f\"Saving model to: {MODEL_SAVE_PATH}\")\n",
    "    torch.save(obj=model.state_dict(), # only saving the state_dict() only saves the models learned parameters\n",
    "               f=MODEL_SAVE_PATH)"
   ]
  },
  {
   "cell_type": "code",
   "execution_count": null,
   "id": "40bab2cf",
   "metadata": {},
   "outputs": [],
   "source": []
  }
 ],
 "metadata": {
  "kernelspec": {
   "display_name": "Python 3 (ipykernel)",
   "language": "python",
   "name": "python3"
  },
  "language_info": {
   "codemirror_mode": {
    "name": "ipython",
    "version": 3
   },
   "file_extension": ".py",
   "mimetype": "text/x-python",
   "name": "python",
   "nbconvert_exporter": "python",
   "pygments_lexer": "ipython3",
   "version": "3.11.5"
  }
 },
 "nbformat": 4,
 "nbformat_minor": 5
}
