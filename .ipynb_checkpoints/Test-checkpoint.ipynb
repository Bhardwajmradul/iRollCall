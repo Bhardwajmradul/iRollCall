{
 "cells": [
  {
   "cell_type": "code",
   "execution_count": 1,
   "id": "35c20009",
   "metadata": {},
   "outputs": [],
   "source": [
    "import torch\n",
    "import numpy as np\n",
    "import os\n",
    "import matplotlib.pyplot as plt\n",
    "from torch.utils.data import DataLoader"
   ]
  },
  {
   "cell_type": "code",
   "execution_count": 2,
   "id": "8c12c4f6",
   "metadata": {},
   "outputs": [
    {
     "data": {
      "text/plain": [
       "'mps'"
      ]
     },
     "execution_count": 2,
     "metadata": {},
     "output_type": "execute_result"
    }
   ],
   "source": [
    "device=\"mps\" if torch.backends.mps.is_available() else \"cpu\"\n",
    "device"
   ]
  },
  {
   "cell_type": "code",
   "execution_count": 3,
   "id": "c82de885",
   "metadata": {},
   "outputs": [
    {
     "data": {
      "text/plain": [
       "(34686, 512)"
      ]
     },
     "execution_count": 3,
     "metadata": {},
     "output_type": "execute_result"
    }
   ],
   "source": [
    "DATA_PATH=\"data/Embedings\"\n",
    "n=\"40\"\n",
    "TRAIN_EMBEDS = os.path.join(DATA_PATH, f'trainEmbeds{n}.npz')\n",
    "TEST_EMBEDS = os.path.join(DATA_PATH, f'testEmbeds{n}.npz')\n",
    "trainEmbeds, trainLabels = np.load(TRAIN_EMBEDS, allow_pickle=True).values()\n",
    "testEmbeds, testLabels = np.load(TEST_EMBEDS, allow_pickle=True).values()\n",
    "trainEmbeds.shape"
   ]
  },
  {
   "cell_type": "code",
   "execution_count": 4,
   "id": "f2149c21",
   "metadata": {},
   "outputs": [
    {
     "name": "stdout",
     "output_type": "stream",
     "text": [
      "18\n"
     ]
    }
   ],
   "source": [
    "import pickle\n",
    "with open('data/class_list.pkl', 'rb') as file:\n",
    "    ClassList = pickle.load(file)\n",
    "print(len(ClassList))    \n",
    "def name_from_index(i, ClassList=ClassList):\n",
    "    reversed_dict = {v: k for k, v in ClassList.items()}\n",
    "    if isinstance(i, np.ndarray):  # Check if i is a NumPy array\n",
    "        names = [reversed_dict.get(idx.item(), None) for idx in i]\n",
    "        return names\n",
    "    else:\n",
    "        return reversed_dict.get(i, None)"
   ]
  },
  {
   "cell_type": "code",
   "execution_count": 5,
   "id": "6d8d2689",
   "metadata": {},
   "outputs": [],
   "source": [
    "import torch.nn as nn\n",
    "import torch.optim as optim\n",
    "X = torch.tensor(trainEmbeds, dtype=torch.float32).to(device)\n",
    "y = torch.tensor(trainLabels, dtype=torch.long).to(device)\n",
    "X_test=torch.tensor(testEmbeds,dtype=torch.float32).to(device)\n",
    "y_test=torch.tensor(testLabels,dtype=torch.long).to(device)"
   ]
  },
  {
   "cell_type": "markdown",
   "id": "71d33da5",
   "metadata": {},
   "source": [
    "# Defining SVM model"
   ]
  },
  {
   "cell_type": "code",
   "execution_count": 6,
   "id": "5cbaeb62",
   "metadata": {},
   "outputs": [
    {
     "data": {
      "text/plain": [
       "<All keys matched successfully>"
      ]
     },
     "execution_count": 6,
     "metadata": {},
     "output_type": "execute_result"
    }
   ],
   "source": [
    "class SoftmaxUsed(nn.Module):\n",
    "    def __init__(self):\n",
    "        super().__init__()\n",
    "        self.layers = nn.Sequential(nn.Linear(512, 512),\n",
    "                                 nn.ReLU(),\n",
    "                                 nn.Dropout(0.2),\n",
    "                                 nn.Linear(512, len(ClassList)),\n",
    "                                 nn.LogSoftmax(dim=1))\n",
    "    def forward(self, x):\n",
    "        return self.layers(x)\n",
    "\n",
    "class SVM(nn.Module):\n",
    "    def __init__(self):\n",
    "        super(SVM, self).__init__()\n",
    "        self.fc = nn.Linear(X.shape[1], len(ClassList))\n",
    "\n",
    "    def forward(self, x):\n",
    "        return self.fc(x)\n",
    "# model = SoftmaxUsed().to(device)\n",
    "model=SVM().to(device)\n",
    "model.load_state_dict(torch.load(f=\"data/models/predictFacesModelAcc91.70_With40Embeds.pth\"))"
   ]
  },
  {
   "cell_type": "markdown",
   "id": "0a7a4a82",
   "metadata": {},
   "source": [
    "# Loss function and Optimizer function"
   ]
  },
  {
   "cell_type": "code",
   "execution_count": 7,
   "id": "753a58c9",
   "metadata": {},
   "outputs": [],
   "source": [
    "loss_func = nn.CrossEntropyLoss()\n",
    "# nn.NLLLoss()\n",
    "admoptimizer = optim.Adam(model.parameters(), lr=0.00051)"
   ]
  },
  {
   "cell_type": "markdown",
   "id": "828d2903",
   "metadata": {},
   "source": [
    "# Accuracy Function"
   ]
  },
  {
   "cell_type": "code",
   "execution_count": 8,
   "id": "a31ea967",
   "metadata": {},
   "outputs": [],
   "source": [
    "def acc(y_true, y_pred):\n",
    "    correct = torch.eq(y_true, y_pred).sum().item() # torch.eq() calculates where two tensors are equal\n",
    "    acc = (correct / len(y_pred)) * 100 \n",
    "    return acc"
   ]
  },
  {
   "cell_type": "markdown",
   "id": "370c53b2",
   "metadata": {},
   "source": [
    "# Training Loop"
   ]
  },
  {
   "cell_type": "code",
   "execution_count": 9,
   "id": "9e898f0f",
   "metadata": {},
   "outputs": [],
   "source": [
    "def modelSave(model):\n",
    "    from pathlib import Path\n",
    "\n",
    "    # 1. Create models directory \n",
    "    MODEL_PATH = Path(f\"data/classLen- {len(classList)}/embeding-{n}\")\n",
    "    MODEL_PATH.mkdir(parents=True, exist_ok=True)\n",
    "\n",
    "    # 2. Create model save path \n",
    "    MODEL_NAME = f\"predictFacesModelAcc{testAcc:.2f}_With{n}Embeds.pth\"\n",
    "    MODEL_SAVE_PATH = MODEL_PATH / MODEL_NAME\n",
    "\n",
    "    # 3. Save the model state dict \n",
    "    print(f\"Saving model to: {MODEL_SAVE_PATH}\")\n",
    "    torch.save(obj=model.state_dict(), # only saving the state_dict() only saves the models learned parameters\n",
    "               f=MODEL_SAVE_PATH)"
   ]
  },
  {
   "cell_type": "code",
   "execution_count": null,
   "id": "6f3902ee",
   "metadata": {
    "scrolled": true
   },
   "outputs": [
    {
     "name": "stdout",
     "output_type": "stream",
     "text": [
      "Epoch: 0 | TrainingLoss= 0.34278756380081177 | TestingLoss= 0.15575231611728668 | Accuracy= 91.69675090252709\n",
      "Epoch: 1000 | TrainingLoss= 0.3427181839942932 | TestingLoss= 0.15556539595127106 | Accuracy= 91.69675090252709\n",
      "Epoch: 2000 | TrainingLoss= 0.34262314438819885 | TestingLoss= 0.15554264187812805 | Accuracy= 91.69675090252709\n",
      "Epoch: 3000 | TrainingLoss= 0.34252405166625977 | TestingLoss= 0.1555236279964447 | Accuracy= 91.69675090252709\n",
      "Epoch: 4000 | TrainingLoss= 0.34242427349090576 | TestingLoss= 0.15549378097057343 | Accuracy= 91.69675090252709\n",
      "Epoch: 5000 | TrainingLoss= 0.3423251509666443 | TestingLoss= 0.1554771512746811 | Accuracy= 91.69675090252709\n",
      "Epoch: 6000 | TrainingLoss= 0.3422258496284485 | TestingLoss= 0.15545909106731415 | Accuracy= 91.69675090252709\n"
     ]
    }
   ],
   "source": [
    "%%time\n",
    "num_epochs = 2400000\n",
    "trainingLoss= []\n",
    "testingLoss = []\n",
    "trainAcc = []\n",
    "testAcc =0\n",
    "for epoch in range(num_epochs):\n",
    "    outputs = model(X)\n",
    "    _, y_predict = torch.max(outputs, 1)\n",
    "    train_accuracy = acc(y, y_predict)\n",
    "    train_loss = loss_func(outputs, y)\n",
    "\n",
    "    admoptimizer.zero_grad()\n",
    "    train_loss.backward()\n",
    "    admoptimizer.step()\n",
    "    model.eval()\n",
    "    with torch.no_grad():\n",
    "        predictions = model(X_test)\n",
    "        _, pred_labels = torch.max(predictions, 1)\n",
    "        y_test = y_test.to(torch.long)  # Convert to Long data type\n",
    "        test_accuracy = acc(y_test, pred_labels)\n",
    "        test_loss = loss_func(predictions, y_test)\n",
    "    if epoch % 1000 == 0:\n",
    "        if testAcc>test_accuracy:\n",
    "            testAcc=test_accuracy\n",
    "            if testAcc>90:\n",
    "                print(save)\n",
    "#                 modelSave(model)\n",
    "        print(f\"Epoch: {epoch} | TrainingLoss= {train_loss} | TestingLoss= {test_loss} | Accuracy= {test_accuracy}\")\n"
   ]
  },
  {
   "cell_type": "code",
   "execution_count": null,
   "id": "cdded870",
   "metadata": {},
   "outputs": [],
   "source": []
  },
  {
   "cell_type": "code",
   "execution_count": null,
   "id": "12ea15f4",
   "metadata": {},
   "outputs": [],
   "source": []
  }
 ],
 "metadata": {
  "kernelspec": {
   "display_name": "Python 3 (ipykernel)",
   "language": "python",
   "name": "python3"
  },
  "language_info": {
   "codemirror_mode": {
    "name": "ipython",
    "version": 3
   },
   "file_extension": ".py",
   "mimetype": "text/x-python",
   "name": "python",
   "nbconvert_exporter": "python",
   "pygments_lexer": "ipython3",
   "version": "3.11.5"
  }
 },
 "nbformat": 4,
 "nbformat_minor": 5
}
