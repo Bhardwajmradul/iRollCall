{
 "cells": [
  {
   "cell_type": "code",
   "execution_count": 1,
   "id": "35c20009",
   "metadata": {},
   "outputs": [],
   "source": [
    "import torch\n",
    "import numpy as np\n",
    "import os\n",
    "import matplotlib.pyplot as plt\n",
    "from torch.utils.data import DataLoader"
   ]
  },
  {
   "cell_type": "code",
   "execution_count": 2,
   "id": "8c12c4f6",
   "metadata": {},
   "outputs": [
    {
     "data": {
      "text/plain": [
       "'mps'"
      ]
     },
     "execution_count": 2,
     "metadata": {},
     "output_type": "execute_result"
    }
   ],
   "source": [
    "device=\"mps\" if torch.backends.mps.is_available() else \"cpu\"\n",
    "device"
   ]
  },
  {
   "cell_type": "code",
   "execution_count": 3,
   "id": "c82de885",
   "metadata": {},
   "outputs": [
    {
     "data": {
      "text/plain": [
       "(38786, 512)"
      ]
     },
     "execution_count": 3,
     "metadata": {},
     "output_type": "execute_result"
    }
   ],
   "source": [
    "n=\"40\"\n",
    "DATA_PATH=f\"data/Embedings/Embeding-{n}\"\n",
    "TRAIN_EMBEDS = os.path.join(DATA_PATH, f'trainEmbeds{n}.npz')\n",
    "TEST_EMBEDS = os.path.join(DATA_PATH, f'testEmbeds{n}.npz')\n",
    "trainEmbeds, trainLabels = np.load(TRAIN_EMBEDS, allow_pickle=True).values()\n",
    "testEmbeds, testLabels = np.load(TEST_EMBEDS, allow_pickle=True).values()\n",
    "trainEmbeds.shape"
   ]
  },
  {
   "cell_type": "code",
   "execution_count": 4,
   "id": "f2149c21",
   "metadata": {},
   "outputs": [
    {
     "name": "stdout",
     "output_type": "stream",
     "text": [
      "20\n"
     ]
    }
   ],
   "source": [
    "import pickle\n",
    "with open('data/class_list.pkl', 'rb') as file:\n",
    "    ClassList = pickle.load(file)\n",
    "print(len(ClassList))    \n",
    "def name_from_index(i, ClassList=ClassList):\n",
    "    reversed_dict = {v: k for k, v in ClassList.items()}\n",
    "    if isinstance(i, np.ndarray):  # Check if i is a NumPy array\n",
    "        names = [reversed_dict.get(idx.item(), None) for idx in i]\n",
    "        return names\n",
    "    else:\n",
    "        return reversed_dict.get(i, None)"
   ]
  },
  {
   "cell_type": "code",
   "execution_count": 5,
   "id": "6d8d2689",
   "metadata": {},
   "outputs": [],
   "source": [
    "import torch.nn as nn\n",
    "import torch.optim as optim\n",
    "X = torch.tensor(trainEmbeds, dtype=torch.float32).to(device)\n",
    "y = torch.tensor(trainLabels, dtype=torch.long).to(device)\n",
    "X_test=torch.tensor(testEmbeds,dtype=torch.float32).to(device)\n",
    "y_test=torch.tensor(testLabels,dtype=torch.long).to(device)"
   ]
  },
  {
   "cell_type": "markdown",
   "id": "71d33da5",
   "metadata": {},
   "source": [
    "# Defining SVM model"
   ]
  },
  {
   "cell_type": "code",
   "execution_count": 16,
   "id": "d575adb4",
   "metadata": {
    "scrolled": true
   },
   "outputs": [],
   "source": [
    "class KernelSVM(torch.nn.Module):\n",
    "    def __init__(self, train_data_x, kernel='rbf',\n",
    "                 gamma_init=1.0, train_gamma=True):\n",
    "        super().__init__()\n",
    "        assert kernel in ['linear', 'rbf']\n",
    "        self._train_data_x = train_data_x\n",
    "        \n",
    "        if kernel == 'linear':\n",
    "            self._kernel = self.linear\n",
    "            self._num_c = 2\n",
    "        elif kernel == 'rbf':\n",
    "            self._kernel = self.rbf\n",
    "            self._num_c = len(ClassList)\n",
    "            self._gamma = torch.nn.Parameter(torch.FloatTensor([gamma_init]),\n",
    "                                             requires_grad=train_gamma)\n",
    "        else:\n",
    "            assert False\n",
    "            \n",
    "        self._w = torch.nn.Linear(in_features=self._num_c, out_features=1)\n",
    "\n",
    "    def rbf(self, x, gamma=1):\n",
    "        y = self._train_data_x.repeat(x.size(0), 1, 1)\n",
    "        return torch.exp(-self._gamma*((x[:,None]-y)**2).sum(dim=2))\n",
    "    \n",
    "    @staticmethod\n",
    "    def linear(x):\n",
    "        return x\n",
    "\n",
    "    def forward(self, x):\n",
    "        y = self._kernel(x)\n",
    "        y = self._w(y)\n",
    "        return y\n",
    "model = KernelSVM(X, kernel='rbf')"
   ]
  },
  {
   "cell_type": "markdown",
   "id": "0a7a4a82",
   "metadata": {},
   "source": [
    "# Loss function and Optimizer function"
   ]
  },
  {
   "cell_type": "code",
   "execution_count": 17,
   "id": "753a58c9",
   "metadata": {},
   "outputs": [],
   "source": [
    "loss_func = nn.CrossEntropyLoss()\n",
    "# nn.NLLLoss()\n",
    "admoptimizer = optim.Adam(model.parameters(), lr=0.051)"
   ]
  },
  {
   "cell_type": "markdown",
   "id": "828d2903",
   "metadata": {},
   "source": [
    "# Accuracy Function"
   ]
  },
  {
   "cell_type": "code",
   "execution_count": 18,
   "id": "a31ea967",
   "metadata": {},
   "outputs": [],
   "source": [
    "def acc(y_true, y_pred):\n",
    "    correct = torch.eq(y_true, y_pred).sum().item() # torch.eq() calculates where two tensors are equal\n",
    "    acc = (correct / len(y_pred)) * 100 \n",
    "    return acc"
   ]
  },
  {
   "cell_type": "markdown",
   "id": "370c53b2",
   "metadata": {},
   "source": [
    "# Training Loop"
   ]
  },
  {
   "cell_type": "code",
   "execution_count": 19,
   "id": "e91a725c",
   "metadata": {},
   "outputs": [],
   "source": [
    "def modelSave(model):\n",
    "    from pathlib import Path\n",
    "\n",
    "    # 1. Create models directory \n",
    "    MODEL_PATH = Path(f\"data/classLen- {len(ClassList)}/embeding-{n}\")\n",
    "    MODEL_PATH.mkdir(parents=True, exist_ok=True)\n",
    "\n",
    "    # 2. Create model save path \n",
    "    MODEL_NAME = f\"predictFacesModelAcc{testAcc:.2f}_With{n}Embeds.pth\"\n",
    "    MODEL_SAVE_PATH = MODEL_PATH / MODEL_NAME\n",
    "\n",
    "    # 3. Save the model state dict \n",
    "    print(f\"Saving model to: {MODEL_SAVE_PATH}\")\n",
    "    torch.save(obj=model.state_dict(), # only saving the state_dict() only saves the models learned parameters\n",
    "               f=MODEL_SAVE_PATH)"
   ]
  },
  {
   "cell_type": "code",
   "execution_count": 20,
   "id": "6f3902ee",
   "metadata": {
    "scrolled": true
   },
   "outputs": [
    {
     "ename": "RuntimeError",
     "evalue": "Invalid buffer size: 2869.33 GB",
     "output_type": "error",
     "traceback": [
      "\u001b[0;31m---------------------------------------------------------------------------\u001b[0m",
      "\u001b[0;31mRuntimeError\u001b[0m                              Traceback (most recent call last)",
      "File \u001b[0;32m<timed exec>:7\u001b[0m\n",
      "File \u001b[0;32m~/anaconda3/lib/python3.11/site-packages/torch/nn/modules/module.py:1518\u001b[0m, in \u001b[0;36mModule._wrapped_call_impl\u001b[0;34m(self, *args, **kwargs)\u001b[0m\n\u001b[1;32m   1516\u001b[0m     \u001b[38;5;28;01mreturn\u001b[39;00m \u001b[38;5;28mself\u001b[39m\u001b[38;5;241m.\u001b[39m_compiled_call_impl(\u001b[38;5;241m*\u001b[39margs, \u001b[38;5;241m*\u001b[39m\u001b[38;5;241m*\u001b[39mkwargs)  \u001b[38;5;66;03m# type: ignore[misc]\u001b[39;00m\n\u001b[1;32m   1517\u001b[0m \u001b[38;5;28;01melse\u001b[39;00m:\n\u001b[0;32m-> 1518\u001b[0m     \u001b[38;5;28;01mreturn\u001b[39;00m \u001b[38;5;28mself\u001b[39m\u001b[38;5;241m.\u001b[39m_call_impl(\u001b[38;5;241m*\u001b[39margs, \u001b[38;5;241m*\u001b[39m\u001b[38;5;241m*\u001b[39mkwargs)\n",
      "File \u001b[0;32m~/anaconda3/lib/python3.11/site-packages/torch/nn/modules/module.py:1527\u001b[0m, in \u001b[0;36mModule._call_impl\u001b[0;34m(self, *args, **kwargs)\u001b[0m\n\u001b[1;32m   1522\u001b[0m \u001b[38;5;66;03m# If we don't have any hooks, we want to skip the rest of the logic in\u001b[39;00m\n\u001b[1;32m   1523\u001b[0m \u001b[38;5;66;03m# this function, and just call forward.\u001b[39;00m\n\u001b[1;32m   1524\u001b[0m \u001b[38;5;28;01mif\u001b[39;00m \u001b[38;5;129;01mnot\u001b[39;00m (\u001b[38;5;28mself\u001b[39m\u001b[38;5;241m.\u001b[39m_backward_hooks \u001b[38;5;129;01mor\u001b[39;00m \u001b[38;5;28mself\u001b[39m\u001b[38;5;241m.\u001b[39m_backward_pre_hooks \u001b[38;5;129;01mor\u001b[39;00m \u001b[38;5;28mself\u001b[39m\u001b[38;5;241m.\u001b[39m_forward_hooks \u001b[38;5;129;01mor\u001b[39;00m \u001b[38;5;28mself\u001b[39m\u001b[38;5;241m.\u001b[39m_forward_pre_hooks\n\u001b[1;32m   1525\u001b[0m         \u001b[38;5;129;01mor\u001b[39;00m _global_backward_pre_hooks \u001b[38;5;129;01mor\u001b[39;00m _global_backward_hooks\n\u001b[1;32m   1526\u001b[0m         \u001b[38;5;129;01mor\u001b[39;00m _global_forward_hooks \u001b[38;5;129;01mor\u001b[39;00m _global_forward_pre_hooks):\n\u001b[0;32m-> 1527\u001b[0m     \u001b[38;5;28;01mreturn\u001b[39;00m forward_call(\u001b[38;5;241m*\u001b[39margs, \u001b[38;5;241m*\u001b[39m\u001b[38;5;241m*\u001b[39mkwargs)\n\u001b[1;32m   1529\u001b[0m \u001b[38;5;28;01mtry\u001b[39;00m:\n\u001b[1;32m   1530\u001b[0m     result \u001b[38;5;241m=\u001b[39m \u001b[38;5;28;01mNone\u001b[39;00m\n",
      "Cell \u001b[0;32mIn[16], line 30\u001b[0m, in \u001b[0;36mKernelSVM.forward\u001b[0;34m(self, x)\u001b[0m\n\u001b[1;32m     29\u001b[0m \u001b[38;5;28;01mdef\u001b[39;00m \u001b[38;5;21mforward\u001b[39m(\u001b[38;5;28mself\u001b[39m, x):\n\u001b[0;32m---> 30\u001b[0m     y \u001b[38;5;241m=\u001b[39m \u001b[38;5;28mself\u001b[39m\u001b[38;5;241m.\u001b[39m_kernel(x)\n\u001b[1;32m     31\u001b[0m     y \u001b[38;5;241m=\u001b[39m \u001b[38;5;28mself\u001b[39m\u001b[38;5;241m.\u001b[39m_w(y)\n\u001b[1;32m     32\u001b[0m     \u001b[38;5;28;01mreturn\u001b[39;00m y\n",
      "Cell \u001b[0;32mIn[16], line 22\u001b[0m, in \u001b[0;36mKernelSVM.rbf\u001b[0;34m(self, x, gamma)\u001b[0m\n\u001b[1;32m     21\u001b[0m \u001b[38;5;28;01mdef\u001b[39;00m \u001b[38;5;21mrbf\u001b[39m(\u001b[38;5;28mself\u001b[39m, x, gamma\u001b[38;5;241m=\u001b[39m\u001b[38;5;241m1\u001b[39m):\n\u001b[0;32m---> 22\u001b[0m     y \u001b[38;5;241m=\u001b[39m \u001b[38;5;28mself\u001b[39m\u001b[38;5;241m.\u001b[39m_train_data_x\u001b[38;5;241m.\u001b[39mrepeat(x\u001b[38;5;241m.\u001b[39msize(\u001b[38;5;241m0\u001b[39m), \u001b[38;5;241m1\u001b[39m, \u001b[38;5;241m1\u001b[39m)\n\u001b[1;32m     23\u001b[0m     \u001b[38;5;28;01mreturn\u001b[39;00m torch\u001b[38;5;241m.\u001b[39mexp(\u001b[38;5;241m-\u001b[39m\u001b[38;5;28mself\u001b[39m\u001b[38;5;241m.\u001b[39m_gamma\u001b[38;5;241m*\u001b[39m((x[:,\u001b[38;5;28;01mNone\u001b[39;00m]\u001b[38;5;241m-\u001b[39my)\u001b[38;5;241m*\u001b[39m\u001b[38;5;241m*\u001b[39m\u001b[38;5;241m2\u001b[39m)\u001b[38;5;241m.\u001b[39msum(dim\u001b[38;5;241m=\u001b[39m\u001b[38;5;241m2\u001b[39m))\n",
      "\u001b[0;31mRuntimeError\u001b[0m: Invalid buffer size: 2869.33 GB"
     ]
    }
   ],
   "source": [
    "%%time\n",
    "num_epochs = 2400000\n",
    "trainingLoss= []\n",
    "testingLoss =1\n",
    "trainAcc = []\n",
    "testAcc =0\n",
    "for epoch in range(num_epochs):\n",
    "    outputs = model(X)\n",
    "    _, y_predict = torch.max(outputs, 1)\n",
    "    train_accuracy = acc(y, y_predict)\n",
    "    train_loss = loss_func(outputs, y)\n",
    "\n",
    "    admoptimizer.zero_grad()\n",
    "    train_loss.backward()\n",
    "    admoptimizer.step()\n",
    "    model.eval()\n",
    "    with torch.no_grad():\n",
    "        predictions = model(X_test)\n",
    "        _, pred_labels = torch.max(predictions, 1)\n",
    "        y_test = y_test.to(torch.long)  # Convert to Long data type\n",
    "        test_accuracy = acc(y_test, pred_labels)\n",
    "        test_loss = loss_func(predictions, y_test)\n",
    "    if epoch % 10 == 0:\n",
    "        if testAcc<test_accuracy:\n",
    "            testAcc=test_accuracy\n",
    "            if testAcc>90:\n",
    "                modelSave(model)\n",
    "        if test_loss<testingLoss and testAcc>90:\n",
    "            testingLoss=test_loss-0.001\n",
    "            modelSave(model)\n",
    "            \n",
    "        print(f\"Epoch: {epoch} | TrainingLoss= {train_loss} | TestingLoss= {test_loss} | Accuracy= {test_accuracy}\")\n"
   ]
  },
  {
   "cell_type": "code",
   "execution_count": null,
   "id": "cdded870",
   "metadata": {},
   "outputs": [],
   "source": [
    "from pathlib import Path\n",
    "\n",
    "    # 1. Create models directory \n",
    "    MODEL_PATH = Path(f\"data/classLen- {len(ClassList)}/embeding-{n}\")\n",
    "    MODEL_PATH.mkdir(parents=True, exist_ok=True)\n",
    "\n",
    "    # 2. Create model save path \n",
    "    MODEL_NAME = f\"predictFacesModelAcc{testAcc:.2f}_With{n}Embeds.pth\"\n",
    "    MODEL_SAVE_PATH = MODEL_PATH / MODEL_NAME\n",
    "\n",
    "    # 3. Save the model state dict \n",
    "    print(f\"Saving model to: {MODEL_SAVE_PATH}\")\n",
    "    torch.save(obj=model.state_dict(), # only saving the state_dict() only saves the models learned parameters\n",
    "               f=MODEL_SAVE_PATH)"
   ]
  },
  {
   "cell_type": "code",
   "execution_count": null,
   "id": "40bab2cf",
   "metadata": {},
   "outputs": [],
   "source": []
  }
 ],
 "metadata": {
  "kernelspec": {
   "display_name": "Python 3 (ipykernel)",
   "language": "python",
   "name": "python3"
  },
  "language_info": {
   "codemirror_mode": {
    "name": "ipython",
    "version": 3
   },
   "file_extension": ".py",
   "mimetype": "text/x-python",
   "name": "python",
   "nbconvert_exporter": "python",
   "pygments_lexer": "ipython3",
   "version": "3.11.5"
  }
 },
 "nbformat": 4,
 "nbformat_minor": 5
}
